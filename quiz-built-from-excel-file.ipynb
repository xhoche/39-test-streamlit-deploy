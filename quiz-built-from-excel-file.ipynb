{
 "cells": [
  {
   "cell_type": "code",
   "execution_count": 1,
   "metadata": {},
   "outputs": [],
   "source": [
    "import pandas as pd\n",
    "import random\n",
    "import os\n",
    "import numpy as np\n",
    "\n",
    "FILE_NAME = \"CapitalCurrenciesLanguages2025FilledByMistralAI.xlsx\"\n",
    "INITIAL_FILE_PATH = os.path.join(\"data\", FILE_NAME)\n",
    "NB_QUIZ_QUESTIONS = 5\n",
    "NB_OF_POSSIBLE_ANSWERS = 4\n"
   ]
  },
  {
   "cell_type": "code",
   "execution_count": 2,
   "metadata": {},
   "outputs": [
    {
     "name": "stdout",
     "output_type": "stream",
     "text": [
      "48\n"
     ]
    }
   ],
   "source": [
    "# let's load up the file into a pandas dataframe\n",
    "file_path = INITIAL_FILE_PATH\n",
    "my_knowledge_df = pd.read_excel(file_path,index_col=0)\n",
    "\n",
    "continent_to_focus_on = 'Europe'\n",
    "initial_info_type_provided = 'Country_Name'\n",
    "knowledge_to_focus_on = 'Capital'\n",
    "\n",
    "questions_df = my_knowledge_df[my_knowledge_df['Continent']==continent_to_focus_on]\n",
    "print(len(questions_df))"
   ]
  },
  {
   "cell_type": "code",
   "execution_count": 3,
   "metadata": {},
   "outputs": [],
   "source": [
    "# let's create the questions dictionary\n",
    "questions_sample_df = questions_df.sample(n=NB_QUIZ_QUESTIONS)\n",
    "questions_oustide_sample_df = questions_df.loc[~questions_df.index.isin(questions_sample_df.index)]\n"
   ]
  },
  {
   "cell_type": "code",
   "execution_count": 4,
   "metadata": {},
   "outputs": [
    {
     "name": "stdout",
     "output_type": "stream",
     "text": [
      "             Country_Name                                    Capital  \\\n",
      "0  Bosnia and Herzegovina                                   Sarajevo   \n",
      "1             Netherlands  Amsterdam| The Hague (seat of government)   \n",
      "2                  Serbia                                   Belgrade   \n",
      "3                  Latvia                                       Riga   \n",
      "4                 Austria                                     Vienna   \n",
      "\n",
      "                    Currency           Official_Language Continent  \\\n",
      "0           Convertible Mark  Bosnian| Croatian| Serbian    Europe   \n",
      "1    Euro (formerly guilder)                       Dutch    Europe   \n",
      "2              Serbian Dinar                     Serbian    Europe   \n",
      "3                       Lats                     Latvian    Europe   \n",
      "4  Euro (formerly schilling)                      German    Europe   \n",
      "\n",
      "   question_number                                         question  \\\n",
      "0                1  What is the capital of Bosnia and Herzegovina ?   \n",
      "1                2             What is the capital of Netherlands ?   \n",
      "2                3                  What is the capital of Serbia ?   \n",
      "3                4                  What is the capital of Latvia ?   \n",
      "4                5                 What is the capital of Austria ?   \n",
      "\n",
      "                                             options  \\\n",
      "0        [Andorra la Vella, Sarajevo, Tirane, Minsk]   \n",
      "1  [Tirane, Amsterdam| The Hague (seat of governm...   \n",
      "2        [Tirane, Belgrade, Minsk, Andorra la Vella]   \n",
      "3            [Andorra la Vella, Tirane, Minsk, Riga]   \n",
      "4          [Vienna, Tirane, Minsk, Andorra la Vella]   \n",
      "\n",
      "                              correct_answer  \n",
      "0                                   Sarajevo  \n",
      "1  Amsterdam| The Hague (seat of government)  \n",
      "2                                   Belgrade  \n",
      "3                                       Riga  \n",
      "4                                     Vienna  \n"
     ]
    }
   ],
   "source": [
    "# let's reset both indexes\n",
    "questions_sample_df.reset_index(drop=True, inplace=True)\n",
    "questions_oustide_sample_df.reset_index(drop=True, inplace=True)\n",
    "questions_sample_df['question_number']=questions_sample_df.index+1\n",
    "\n",
    "if knowledge_to_focus_on == 'Capital':\n",
    "    questions_sample_df['question'] = 'What is the capital of ' + questions_sample_df[initial_info_type_provided].astype(str) + ' ?'\n",
    "    questions_sample_df['options'] = [np.random.permutation(questions_oustide_sample_df['Capital'].tolist()[:NB_OF_POSSIBLE_ANSWERS-1] + [capital]) for capital in questions_sample_df['Capital']]\n",
    "    questions_sample_df['correct_answer'] = questions_sample_df['Capital']\n",
    "print(questions_sample_df.head())\n"
   ]
  }
 ],
 "metadata": {
  "kernelspec": {
   "display_name": "lewagontweaked",
   "language": "python",
   "name": "python3"
  },
  "language_info": {
   "codemirror_mode": {
    "name": "ipython",
    "version": 3
   },
   "file_extension": ".py",
   "mimetype": "text/x-python",
   "name": "python",
   "nbconvert_exporter": "python",
   "pygments_lexer": "ipython3",
   "version": "3.10.6"
  }
 },
 "nbformat": 4,
 "nbformat_minor": 2
}
